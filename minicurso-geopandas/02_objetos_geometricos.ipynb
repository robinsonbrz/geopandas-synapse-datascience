{
 "cells": [
  {
   "cell_type": "markdown",
   "metadata": {},
   "source": [
    "<center><img src=\"https://synapsedatascience.com.br/wp-content/uploads/2020/12/logo-jupyter.png\" width=\"300\"/></center>\n",
    "\n",
    "Manipulando dados Geoespaciais com GeoPandas | Parte 2/4\n",
    "\n",
    "https://www.youtube.com/watch?v=6ovnvl6pxQM"
   ]
  },
  {
   "cell_type": "markdown",
   "metadata": {},
   "source": [
    "# Estrutura do GeoPandas"
   ]
  },
  {
   "cell_type": "markdown",
   "metadata": {},
   "source": [
    "![Divisão do GeoPandas](imagens/geopandas_separacao_expandido.png)"
   ]
  },
  {
   "cell_type": "markdown",
   "metadata": {},
   "source": [
    "A biblioteca `geopandas` é uma extensão da biblioteca `pandas` criada para facilitar a manipulação de dados georreferenciados."
   ]
  },
  {
   "cell_type": "markdown",
   "metadata": {},
   "source": [
    "# 1. Modelo espacial de dados"
   ]
  },
  {
   "cell_type": "markdown",
   "metadata": {},
   "source": [
    "![Modelo espacial de dados](imagens/ponto_linha_poligono.png)"
   ]
  },
  {
   "cell_type": "markdown",
   "metadata": {},
   "source": [
    "Os objetos geométricos fundamentais para trabalhar com dados espaciais são: `Points`, `Lines` e `Polygons`. Em python podemos usar a biblioteca [Shapely](https://shapely.readthedocs.io/en/latest/project.html) para definir e realizar operações com os objetos geométricos. Entre algumas funcionalidades, podemos citar:\n",
    "\n",
    "-  Criar objetos básicos, como: `Point`, `Line`, `Polygon` e outros;\n",
    "-  Calcular área, tamanho, limite dos objetos geométricos;\n",
    "-  Realizar operações geométricas, como: `Union`, `Intersection`, `Difference`, `Distance` e etc;\n",
    "-  Realizar consultas espaciais entre geometrias, como: `Intersects`, `Touches`, `Crosses`, `Within` e etc.\n",
    "\n",
    "**Os objetos geométricos consistem em tuplas de coordenadas, em que:**\n",
    "\n",
    "-  `Point`: representa um ponto no espaço. Podendo ser bidimensional (x, y) ou tridimensional (x, y, z);\n",
    "-  `LineString`: representa uma sequência de pontos para formar uma linha. Uma linha consiste de pelo menos dois pontos.\n",
    "-  `Polygon`: representa um polígono preenchido, formado por uma lista de pelo menos três pontos, que indicam uma estrutura de anel externo. Os polígonos também podem apresentar aberturas internas (buracos)."
   ]
  },
  {
   "cell_type": "markdown",
   "metadata": {},
   "source": [
    "É possível instalar o módulo `shapely` em nosso ambiente através do comando:"
   ]
  },
  {
   "cell_type": "code",
   "execution_count": 1,
   "metadata": {},
   "outputs": [
    {
     "ename": "SyntaxError",
     "evalue": "invalid syntax (621892783.py, line 5)",
     "output_type": "error",
     "traceback": [
      "\u001b[1;36m  Input \u001b[1;32mIn [1]\u001b[1;36m\u001b[0m\n\u001b[1;33m    pip install shapely\u001b[0m\n\u001b[1;37m        ^\u001b[0m\n\u001b[1;31mSyntaxError\u001b[0m\u001b[1;31m:\u001b[0m invalid syntax\n"
     ]
    }
   ],
   "source": [
    "# instalando a biblioteca shapely com conda\n",
    "# !conda install shapely -y\n",
    "\n",
    "# instalando a biblioteca shapely com pip\n",
    "# pip install shapely"
   ]
  },
  {
   "cell_type": "code",
   "execution_count": null,
   "metadata": {},
   "outputs": [],
   "source": [
    "# mostrar a versão da biblioteca\n",
    "# !conda list shapely"
   ]
  },
  {
   "cell_type": "markdown",
   "metadata": {},
   "source": [
    "Vamos importar os objetos geométricos."
   ]
  },
  {
   "cell_type": "code",
   "execution_count": 1,
   "metadata": {},
   "outputs": [],
   "source": [
    "# importar os objetos geométricos da biblioteca shapely\n",
    "from shapely.geometry import Point, LineString, Polygon"
   ]
  },
  {
   "cell_type": "markdown",
   "metadata": {},
   "source": [
    "## 1.1. Ponto (Point)\n",
    "\n",
    "![Exemplo de aplicações com Ponto](imagens/ponto-exemplo-app.png)\n",
    "\n",
    "Para criar um objeto `Point` passaremos as coordenadas x e y para a classe `Point()`. \n",
    "\n",
    "**`Dica:`** para pontos tridimensionais podemos incluir a coordenada z."
   ]
  },
  {
   "cell_type": "code",
   "execution_count": 2,
   "metadata": {},
   "outputs": [],
   "source": [
    "# criar uma geometria do tipo ponto\n",
    "ponto = Point(5, 10)"
   ]
  },
  {
   "cell_type": "markdown",
   "metadata": {},
   "source": [
    "Vamos ver como a variável do tipo `Point` é mostrada no jupyter:"
   ]
  },
  {
   "cell_type": "code",
   "execution_count": 3,
   "metadata": {},
   "outputs": [
    {
     "data": {
      "image/svg+xml": "<svg xmlns=\"http://www.w3.org/2000/svg\" xmlns:xlink=\"http://www.w3.org/1999/xlink\" width=\"100.0\" height=\"100.0\" viewBox=\"4.0 9.0 2.0 2.0\" preserveAspectRatio=\"xMinYMin meet\"><g transform=\"matrix(1,0,0,-1,0,20.0)\"><circle cx=\"5.0\" cy=\"10.0\" r=\"0.06\" stroke=\"#555555\" stroke-width=\"0.02\" fill=\"#66cc99\" opacity=\"0.6\" /></g></svg>",
      "text/plain": [
       "<shapely.geometry.point.Point at 0x23910b97b80>"
      ]
     },
     "execution_count": 3,
     "metadata": {},
     "output_type": "execute_result"
    }
   ],
   "source": [
    "ponto"
   ]
  },
  {
   "cell_type": "markdown",
   "metadata": {},
   "source": [
    "Vamos imprimir e ver o tipo do objeto para ver a sua definição:"
   ]
  },
  {
   "cell_type": "code",
   "execution_count": 4,
   "metadata": {},
   "outputs": [
    {
     "name": "stdout",
     "output_type": "stream",
     "text": [
      "POINT (5 10)\n"
     ]
    }
   ],
   "source": [
    "print(ponto)"
   ]
  },
  {
   "cell_type": "code",
   "execution_count": 5,
   "metadata": {},
   "outputs": [
    {
     "data": {
      "text/plain": [
       "shapely.geometry.point.Point"
      ]
     },
     "execution_count": 5,
     "metadata": {},
     "output_type": "execute_result"
    }
   ],
   "source": [
    "type(ponto)"
   ]
  },
  {
   "cell_type": "markdown",
   "metadata": {},
   "source": [
    "### Ponto - Atributos e funções"
   ]
  },
  {
   "cell_type": "markdown",
   "metadata": {},
   "source": [
    "Os objetos do tipo `Point` já possuem atributos e funções internas para realizar operações básicas. Uma das funções mais simples é a capacidade de extrair as coordenadas e a possibilidade de calcular a distância entre dois pontos."
   ]
  },
  {
   "cell_type": "markdown",
   "metadata": {},
   "source": [
    "Podemos obter as coordenadas x e y de diferentes maneiras: "
   ]
  },
  {
   "cell_type": "code",
   "execution_count": 7,
   "metadata": {},
   "outputs": [
    {
     "data": {
      "text/plain": [
       "[(5.0, 10.0)]"
      ]
     },
     "execution_count": 7,
     "metadata": {},
     "output_type": "execute_result"
    }
   ],
   "source": [
    "# utilizando a função coords\n",
    "ponto.coords  # <-objeto coordinate sequence <shapely.coords.CoordinateSequence at 0x23910b97df0>\n",
    "list(ponto.coords)"
   ]
  },
  {
   "cell_type": "code",
   "execution_count": 8,
   "metadata": {},
   "outputs": [
    {
     "name": "stdout",
     "output_type": "stream",
     "text": [
      "5.0 10.0\n"
     ]
    }
   ],
   "source": [
    "# lendo x e y separadamente\n",
    "x = ponto.x\n",
    "y = ponto.y\n",
    "print(x , y)\n"
   ]
  },
  {
   "cell_type": "markdown",
   "metadata": {},
   "source": [
    "Também podemos calcular a distância entre dois pontos:"
   ]
  },
  {
   "cell_type": "code",
   "execution_count": 20,
   "metadata": {},
   "outputs": [
    {
     "name": "stdout",
     "output_type": "stream",
     "text": [
      "Distância entre pontos: 5.0\n"
     ]
    }
   ],
   "source": [
    "# definir os pontos\n",
    "ponto_1 = Point(2, 3)\n",
    "ponto_2 = Point(5, 7)\n",
    "\n",
    "# calcular a distância\n",
    "distancia =  ponto_1.distance(ponto_2)\n",
    "\n",
    "\n",
    "# mostrar a distância\n",
    "print( f\"Distância entre pontos: {distancia}\")"
   ]
  },
  {
   "cell_type": "markdown",
   "metadata": {},
   "source": [
    "## 1.2. Linha (LineString)\n",
    "\n",
    "![Exemplo de aplicações com Ponto](imagens/linha-exemplo-app.png)\n",
    "\n",
    "Criar um objeto `LineString` é parecido com a criação objeto `Point`. \n",
    "\n",
    "Agora, em vez de usar uma única tupla de coordenadas, nós podemos contruir uma linha usando uma lista de `Point` ou um vetor de tuplas com as respectivas coordenadas:"
   ]
  },
  {
   "cell_type": "code",
   "execution_count": 14,
   "metadata": {},
   "outputs": [],
   "source": [
    "# definir três pontos\n",
    "ponto_1 = Point(2, 3)\n",
    "ponto_2 = Point(5, 7)\n",
    "ponto_3 = Point(2, 10)\n",
    "\n",
    "# criar uma linha a partir de objetos pontos \n",
    "linha = LineString([ponto_1, ponto_2, ponto_3])"
   ]
  },
  {
   "cell_type": "markdown",
   "metadata": {},
   "source": [
    "Vamos ver como a variável do tipo `LineString` é mostrada no jupyter:"
   ]
  },
  {
   "cell_type": "code",
   "execution_count": 15,
   "metadata": {},
   "outputs": [
    {
     "data": {
      "image/svg+xml": "<svg xmlns=\"http://www.w3.org/2000/svg\" xmlns:xlink=\"http://www.w3.org/1999/xlink\" width=\"100.0\" height=\"100.0\" viewBox=\"1.72 2.7199999999999998 3.5600000000000005 7.56\" preserveAspectRatio=\"xMinYMin meet\"><g transform=\"matrix(1,0,0,-1,0,13.0)\"><polyline fill=\"none\" stroke=\"#66cc99\" stroke-width=\"0.1512\" points=\"2.0,3.0 5.0,7.0 2.0,10.0\" opacity=\"0.8\" /></g></svg>",
      "text/plain": [
       "<shapely.geometry.linestring.LineString at 0x2390ffccd60>"
      ]
     },
     "execution_count": 15,
     "metadata": {},
     "output_type": "execute_result"
    }
   ],
   "source": [
    "linha"
   ]
  },
  {
   "cell_type": "markdown",
   "metadata": {},
   "source": [
    "Vamos imprimir e ver o tipo do objeto linha para ver a sua definição:"
   ]
  },
  {
   "cell_type": "code",
   "execution_count": 16,
   "metadata": {},
   "outputs": [
    {
     "name": "stdout",
     "output_type": "stream",
     "text": [
      "LINESTRING (2 3, 5 7, 2 10)\n"
     ]
    }
   ],
   "source": [
    "print(linha)"
   ]
  },
  {
   "cell_type": "code",
   "execution_count": 17,
   "metadata": {},
   "outputs": [
    {
     "data": {
      "text/plain": [
       "shapely.geometry.linestring.LineString"
      ]
     },
     "execution_count": 17,
     "metadata": {},
     "output_type": "execute_result"
    }
   ],
   "source": [
    "type(linha)"
   ]
  },
  {
   "cell_type": "markdown",
   "metadata": {},
   "source": [
    "### Linha - Atributos e funções"
   ]
  },
  {
   "cell_type": "markdown",
   "metadata": {},
   "source": [
    "O objeto `LineString` possui diversos atributos e funções internas. Algumas operações possíveis com o objeto do tipo linha:\n",
    "\n",
    "- extrair as coordenadas;\n",
    "- calcular o tamanho da linha;\n",
    "- calcular o ponto médio (centróide).\n",
    "\n",
    "A lista completa de funcionalidades pode ser acessada na [documentação da biblioteca](https://shapely.readthedocs.io/en/latest/manual.html#linestrings). \n",
    "\n",
    "Vamos ver algumas dessas funções.\n",
    "\n",
    "Nós podemos extrair as coordenadas da `LineString` similar ao objeto `Point`."
   ]
  },
  {
   "cell_type": "code",
   "execution_count": 18,
   "metadata": {},
   "outputs": [
    {
     "data": {
      "text/plain": [
       "[(2.0, 3.0), (5.0, 7.0), (2.0, 10.0)]"
      ]
     },
     "execution_count": 18,
     "metadata": {},
     "output_type": "execute_result"
    }
   ],
   "source": [
    "# utilizando a função coords\n",
    "list(linha.coords)"
   ]
  },
  {
   "cell_type": "code",
   "execution_count": 23,
   "metadata": {},
   "outputs": [
    {
     "name": "stdout",
     "output_type": "stream",
     "text": [
      "coord x [2.0, 5.0, 2.0]\n",
      "coord y [3.0, 7.0, 10.0]\n"
     ]
    }
   ],
   "source": [
    "# lendo x e y separadamente\n",
    "coordenadas_x = list(linha.xy[0])\n",
    "coordenadas_y = list(linha.xy[1])\n",
    "\n",
    "print(f\"coord x {coordenadas_x}\")\n",
    "print(f\"coord y {coordenadas_y}\")"
   ]
  },
  {
   "cell_type": "markdown",
   "metadata": {},
   "source": [
    "Também é possível obter o comprimento da linha e o ponto central (centróide) diretamente do objeto:"
   ]
  },
  {
   "cell_type": "code",
   "execution_count": 25,
   "metadata": {},
   "outputs": [
    {
     "name": "stdout",
     "output_type": "stream",
     "text": [
      "9.242640687119284\n"
     ]
    }
   ],
   "source": [
    "# pegar o comprimento da linha\n",
    "linha.length\n",
    "\n",
    "# mostrar o comprimento da linha\n",
    "print(linha.length)"
   ]
  },
  {
   "cell_type": "code",
   "execution_count": 27,
   "metadata": {},
   "outputs": [
    {
     "name": "stdout",
     "output_type": "stream",
     "text": [
      "POINT (3.5000000000000004 6.606601717798214)\n"
     ]
    }
   ],
   "source": [
    "# obter o ponto central (centróide)\n",
    "print(linha.centroid)   # coordenadas do centro do objeto linha\n"
   ]
  },
  {
   "cell_type": "markdown",
   "metadata": {},
   "source": [
    "## 1.3. Polígono (Polygon)\n",
    "\n",
    "![Exemplo de aplicações com Poligono](imagens/poligono-exemplo-app.png)\n",
    "\n",
    "Podemos criar um objeto `Polygon` usando a mesma lógica do `Point` e `LineString`, porém a criação do objeto `Polygon` só aceita uma sequência de coordenadas.\n",
    "\n",
    "Para criar um polígono são necessários __pelo menos três coordenadas__.\n",
    "\n",
    "Um poligono é preenchido, e pode ter um buraco."
   ]
  },
  {
   "cell_type": "code",
   "execution_count": 29,
   "metadata": {},
   "outputs": [],
   "source": [
    "# criar um Polygon passando as coordenadas\n",
    "poly = Polygon([(2,3),(5,7),(2,10)])"
   ]
  },
  {
   "cell_type": "markdown",
   "metadata": {},
   "source": [
    "Vamos ver como a variável do tipo `Polygon` é mostrada no jupyter:"
   ]
  },
  {
   "cell_type": "code",
   "execution_count": 31,
   "metadata": {},
   "outputs": [
    {
     "data": {
      "image/svg+xml": "<svg xmlns=\"http://www.w3.org/2000/svg\" xmlns:xlink=\"http://www.w3.org/1999/xlink\" width=\"100.0\" height=\"100.0\" viewBox=\"1.72 2.7199999999999998 3.5600000000000005 7.56\" preserveAspectRatio=\"xMinYMin meet\"><g transform=\"matrix(1,0,0,-1,0,13.0)\"><path fill-rule=\"evenodd\" fill=\"#66cc99\" stroke=\"#555555\" stroke-width=\"0.1512\" opacity=\"0.6\" d=\"M 2.0,3.0 L 5.0,7.0 L 2.0,10.0 L 2.0,3.0 z\" /></g></svg>",
      "text/plain": [
       "<shapely.geometry.polygon.Polygon at 0x23910840760>"
      ]
     },
     "execution_count": 31,
     "metadata": {},
     "output_type": "execute_result"
    }
   ],
   "source": [
    "# visualização do poligono no Jupyter\n",
    "poly"
   ]
  },
  {
   "cell_type": "markdown",
   "metadata": {},
   "source": [
    "Vamos imprimir e ver o tipo do objeto linha para ver a sua definição:"
   ]
  },
  {
   "cell_type": "code",
   "execution_count": 32,
   "metadata": {},
   "outputs": [
    {
     "name": "stdout",
     "output_type": "stream",
     "text": [
      "POLYGON ((2 3, 5 7, 2 10, 2 3))\n"
     ]
    }
   ],
   "source": [
    "print(poly)"
   ]
  },
  {
   "cell_type": "code",
   "execution_count": 34,
   "metadata": {},
   "outputs": [
    {
     "data": {
      "text/plain": [
       "shapely.geometry.polygon.Polygon"
      ]
     },
     "execution_count": 34,
     "metadata": {},
     "output_type": "execute_result"
    }
   ],
   "source": [
    "type(poly)"
   ]
  },
  {
   "cell_type": "markdown",
   "metadata": {},
   "source": [
    "### Polígonos - Atributos e funções"
   ]
  },
  {
   "cell_type": "markdown",
   "metadata": {},
   "source": [
    "Podemos acessar diferentes funções diretamente do objeto `Polygon`, que são úteis para muitas tarefas e análises, como: obter área, centróide, _bounding box_, o exterior e o perímetro (tamanho exterior).\n",
    "\n",
    "Aqui, podemos ver alguns atributos disponíveis e como acessá-los:"
   ]
  },
  {
   "cell_type": "code",
   "execution_count": 41,
   "metadata": {},
   "outputs": [
    {
     "name": "stdout",
     "output_type": "stream",
     "text": [
      "<shapely.coords.CoordinateSequence object at 0x0000023910DCEC20>\n",
      "<class 'shapely.coords.CoordinateSequence'>\n",
      "[(2.0, 3.0), (5.0, 7.0), (2.0, 10.0), (2.0, 3.0)]  Observe que ele fechou, o 1º = último\n"
     ]
    }
   ],
   "source": [
    "# obter as coordenadas do poligono\n",
    "poly.exterior.coords # <- tipo coordinate sequence<shapely.coords.CoordinateSequence at 0x2391062c9d0>\n",
    "print(poly.exterior.coords)\n",
    "print(type(poly.exterior.coords))\n",
    "print(list(poly.exterior.coords), \" Observe que ele fechou, o 1º = último\" )"
   ]
  },
  {
   "cell_type": "code",
   "execution_count": 40,
   "metadata": {},
   "outputs": [
    {
     "name": "stdout",
     "output_type": "stream",
     "text": [
      "10.5\n"
     ]
    }
   ],
   "source": [
    "# calcular a área\n",
    "print(poly.area)\n",
    "\n"
   ]
  },
  {
   "cell_type": "code",
   "execution_count": 43,
   "metadata": {},
   "outputs": [
    {
     "name": "stdout",
     "output_type": "stream",
     "text": [
      "POINT (3 6.666666666666667)\n"
     ]
    },
    {
     "data": {
      "image/svg+xml": "<svg xmlns=\"http://www.w3.org/2000/svg\" xmlns:xlink=\"http://www.w3.org/1999/xlink\" width=\"100.0\" height=\"100.0\" viewBox=\"2.0 5.666666666666667 2.0 2.0\" preserveAspectRatio=\"xMinYMin meet\"><g transform=\"matrix(1,0,0,-1,0,13.333333333333334)\"><circle cx=\"3.0\" cy=\"6.666666666666667\" r=\"0.06\" stroke=\"#555555\" stroke-width=\"0.02\" fill=\"#66cc99\" opacity=\"0.6\" /></g></svg>",
      "text/plain": [
       "<shapely.geometry.point.Point at 0x23910d2b040>"
      ]
     },
     "execution_count": 43,
     "metadata": {},
     "output_type": "execute_result"
    }
   ],
   "source": [
    "# pegar o centroide do polígono\n",
    "print(poly.centroid)\n",
    "poly.centroid\n"
   ]
  },
  {
   "cell_type": "code",
   "execution_count": 45,
   "metadata": {},
   "outputs": [
    {
     "name": "stdout",
     "output_type": "stream",
     "text": [
      "LINEARRING (2 3, 5 7, 2 10, 2 3)\n"
     ]
    },
    {
     "data": {
      "image/svg+xml": "<svg xmlns=\"http://www.w3.org/2000/svg\" xmlns:xlink=\"http://www.w3.org/1999/xlink\" width=\"100.0\" height=\"100.0\" viewBox=\"1.72 2.7199999999999998 3.5600000000000005 7.56\" preserveAspectRatio=\"xMinYMin meet\"><g transform=\"matrix(1,0,0,-1,0,13.0)\"><polyline fill=\"none\" stroke=\"#66cc99\" stroke-width=\"0.1512\" points=\"2.0,3.0 5.0,7.0 2.0,10.0 2.0,3.0\" opacity=\"0.8\" /></g></svg>",
      "text/plain": [
       "<shapely.geometry.polygon.LinearRing at 0x2391062eb30>"
      ]
     },
     "execution_count": 45,
     "metadata": {},
     "output_type": "execute_result"
    }
   ],
   "source": [
    "# obter as coordenadas do bounding box\n",
    "\n",
    "poly.exterior\n"
   ]
  },
  {
   "cell_type": "code",
   "execution_count": 46,
   "metadata": {},
   "outputs": [
    {
     "name": "stdout",
     "output_type": "stream",
     "text": [
      "LINEARRING (2 3, 5 7, 2 10, 2 3)\n"
     ]
    }
   ],
   "source": [
    "print(poly.exterior)  # anel exterior do poly\n",
    "\n"
   ]
  },
  {
   "cell_type": "code",
   "execution_count": 47,
   "metadata": {},
   "outputs": [
    {
     "name": "stdout",
     "output_type": "stream",
     "text": [
      "16.242640687119284\n"
     ]
    }
   ],
   "source": [
    "# obter o tamanho da linha exterior\n",
    "print(poly.exterior.length)\n",
    "\n"
   ]
  },
  {
   "cell_type": "markdown",
   "metadata": {},
   "source": [
    "# 2. Operações básicas entre geometrias"
   ]
  },
  {
   "cell_type": "code",
   "execution_count": 50,
   "metadata": {},
   "outputs": [
    {
     "name": "stdout",
     "output_type": "stream",
     "text": [
      "POLYGON ((3 1, 2.995184726672197 0.9019828596704393, 2.9807852804032304 0.8049096779838718, 2.9569403357322086 0.7097153227455377, 2.923879532511287 0.6173165676349102, 2.881921264348355 0.5286032631740023, 2.8314696123025453 0.4444297669803978, 2.773010453362737 0.3656067158363545, 2.7071067811865475 0.2928932188134524, 2.6343932841636457 0.2269895466372631, 2.555570233019602 0.1685303876974548, 2.471396736825998 0.1180787356516451, 2.3826834323650896 0.0761204674887133, 2.2902846772544625 0.0430596642677911, 2.1950903220161284 0.0192147195967696, 2.098017140329561 0.0048152733278032, 2 0, 1.9019828596704393 0.0048152733278031, 1.8049096779838718 0.0192147195967696, 1.709715322745538 0.0430596642677911, 1.6173165676349104 0.0761204674887133, 1.5286032631740023 0.118078735651645, 1.444429766980398 0.1685303876974546, 1.3656067158363547 0.2269895466372629, 1.2928932188134525 0.2928932188134524, 1.2269895466372631 0.3656067158363545, 1.1685303876974547 0.4444297669803978, 1.118078735651645 0.5286032631740022, 1.0761204674887133 0.6173165676349102, 1.0430596642677912 0.7097153227455376, 1.0192147195967696 0.8049096779838714, 1.0048152733278033 0.9019828596704391, 1 0.9999999999999999, 1.004815273327803 1.0980171403295607, 1.0192147195967696 1.1950903220161284, 1.043059664267791 1.290284677254462, 1.076120467488713 1.3826834323650896, 1.118078735651645 1.4713967368259977, 1.1685303876974547 1.555570233019602, 1.226989546637263 1.6343932841636453, 1.2928932188134523 1.7071067811865475, 1.365606715836354 1.7730104533627367, 1.4444297669803978 1.8314696123025453, 1.528603263174002 1.881921264348355, 1.6173165676349097 1.9238795325112865, 1.7097153227455375 1.9569403357322088, 1.8049096779838714 1.9807852804032304, 1.9019828596704396 1.995184726672197, 1.9999999999999998 2, 2.09801714032956 1.995184726672197, 2.1950903220161284 1.9807852804032304, 2.290284677254462 1.956940335732209, 2.38268343236509 1.9238795325112865, 2.4713967368259975 1.881921264348355, 2.5555702330196017 1.8314696123025453, 2.6343932841636457 1.7730104533627369, 2.7071067811865475 1.7071067811865477, 2.7730104533627364 1.634393284163646, 2.8314696123025453 1.5555702330196022, 2.881921264348355 1.471396736825998, 2.9238795325112865 1.3826834323650905, 2.9569403357322086 1.2902846772544625, 2.9807852804032304 1.1950903220161286, 2.995184726672197 1.0980171403295604, 3 1))\n",
      "<class 'shapely.geometry.polygon.Polygon'>\n"
     ]
    },
    {
     "data": {
      "image/svg+xml": "<svg xmlns=\"http://www.w3.org/2000/svg\" xmlns:xlink=\"http://www.w3.org/1999/xlink\" width=\"100.0\" height=\"100.0\" viewBox=\"0.92 -0.08 2.16 2.16\" preserveAspectRatio=\"xMinYMin meet\"><g transform=\"matrix(1,0,0,-1,0,2.0)\"><path fill-rule=\"evenodd\" fill=\"#66cc99\" stroke=\"#555555\" stroke-width=\"0.0432\" opacity=\"0.6\" d=\"M 3.0,1.0 L 2.995184726672197,0.9019828596704393 L 2.9807852804032304,0.8049096779838718 L 2.9569403357322086,0.7097153227455377 L 2.923879532511287,0.6173165676349102 L 2.881921264348355,0.5286032631740023 L 2.8314696123025453,0.4444297669803978 L 2.773010453362737,0.3656067158363545 L 2.7071067811865475,0.2928932188134524 L 2.6343932841636457,0.22698954663726312 L 2.555570233019602,0.16853038769745476 L 2.471396736825998,0.11807873565164506 L 2.3826834323650896,0.07612046748871326 L 2.2902846772544625,0.043059664267791065 L 2.1950903220161284,0.01921471959676957 L 2.098017140329561,0.004815273327803182 L 2.0,0.0 L 1.9019828596704393,0.004815273327803071 L 1.8049096779838718,0.01921471959676957 L 1.709715322745538,0.043059664267791065 L 1.6173165676349104,0.07612046748871326 L 1.5286032631740023,0.11807873565164495 L 1.444429766980398,0.16853038769745465 L 1.3656067158363547,0.2269895466372629 L 1.2928932188134525,0.2928932188134524 L 1.2269895466372631,0.3656067158363545 L 1.1685303876974547,0.4444297669803978 L 1.118078735651645,0.5286032631740022 L 1.0761204674887133,0.6173165676349102 L 1.0430596642677912,0.7097153227455376 L 1.0192147195967696,0.8049096779838714 L 1.0048152733278033,0.9019828596704391 L 1.0,0.9999999999999999 L 1.004815273327803,1.0980171403295607 L 1.0192147195967696,1.1950903220161284 L 1.043059664267791,1.290284677254462 L 1.076120467488713,1.3826834323650896 L 1.118078735651645,1.4713967368259977 L 1.1685303876974547,1.555570233019602 L 1.226989546637263,1.6343932841636453 L 1.2928932188134523,1.7071067811865475 L 1.365606715836354,1.7730104533627367 L 1.4444297669803978,1.8314696123025453 L 1.528603263174002,1.881921264348355 L 1.6173165676349097,1.9238795325112865 L 1.7097153227455375,1.9569403357322088 L 1.8049096779838714,1.9807852804032304 L 1.9019828596704396,1.995184726672197 L 1.9999999999999998,2.0 L 2.09801714032956,1.995184726672197 L 2.1950903220161284,1.9807852804032304 L 2.290284677254462,1.956940335732209 L 2.38268343236509,1.9238795325112865 L 2.4713967368259975,1.881921264348355 L 2.5555702330196017,1.8314696123025453 L 2.6343932841636457,1.7730104533627369 L 2.7071067811865475,1.7071067811865477 L 2.7730104533627364,1.634393284163646 L 2.8314696123025453,1.5555702330196022 L 2.881921264348355,1.471396736825998 L 2.9238795325112865,1.3826834323650905 L 2.9569403357322086,1.2902846772544625 L 2.9807852804032304,1.1950903220161286 L 2.995184726672197,1.0980171403295604 L 3.0,1.0 z\" /></g></svg>",
      "text/plain": [
       "<shapely.geometry.polygon.Polygon at 0x239108424d0>"
      ]
     },
     "execution_count": 50,
     "metadata": {},
     "output_type": "execute_result"
    }
   ],
   "source": [
    "# vamos criar dois círculos\n",
    "circulo_1 = Point(1,1).buffer(1)  # buffer cresce o circulo em todas as extremidades\n",
    "circulo_2 = Point(2,1).buffer(1)\n",
    "print(circulo_2)\n",
    "print(type(circulo_2))\n",
    "\n",
    "circulo_2"
   ]
  },
  {
   "cell_type": "markdown",
   "metadata": {},
   "source": [
    "Vamos mostrar os dois círculos com a biblioteca matplotlib."
   ]
  },
  {
   "cell_type": "code",
   "execution_count": 52,
   "metadata": {},
   "outputs": [],
   "source": [
    "# instalar matplotlib no venv \n",
    "# pip install matplotlib\n",
    "# importar a biblioteca matplotlib\n",
    "import matplotlib.pyplot as plt"
   ]
  },
  {
   "cell_type": "code",
   "execution_count": 55,
   "metadata": {},
   "outputs": [
    {
     "data": {
      "image/png": "[encoded data removed]",
      "text/plain": [
       "<Figure size 640x480 with 1 Axes>"
      ]
     },
     "metadata": {},
     "output_type": "display_data"
    }
   ],
   "source": [
    "# plotar o círculo 1 \n",
    "x,y = circulo_1.exterior.xy\n",
    "plt.plot(x,y)\n",
    "\n",
    "\n",
    "# plotar o círculo 2\n",
    "x,y = circulo_2.exterior.xy\n",
    "plt.plot(x,y)\n",
    "\n",
    "plt.show()\n"
   ]
  },
  {
   "cell_type": "markdown",
   "metadata": {},
   "source": [
    "## 2.1. Interseção"
   ]
  },
  {
   "cell_type": "code",
   "execution_count": 57,
   "metadata": {},
   "outputs": [
    {
     "data": {
      "image/svg+xml": "<svg xmlns=\"http://www.w3.org/2000/svg\" xmlns:xlink=\"http://www.w3.org/1999/xlink\" width=\"100.0\" height=\"100.0\" viewBox=\"0.9308178297460941 0.06604070157226961 1.138364340507812 1.8679185968554606\" preserveAspectRatio=\"xMinYMin meet\"><g transform=\"matrix(1,0,0,-1,0,2.0)\"><path fill-rule=\"evenodd\" fill=\"#66cc99\" stroke=\"#555555\" stroke-width=\"0.03735837193710921\" opacity=\"0.6\" d=\"M 1.995184726672197,0.9019828596704393 L 1.9807852804032304,0.8049096779838718 L 1.9569403357322088,0.7097153227455377 L 1.9238795325112867,0.6173165676349102 L 1.881921264348355,0.5286032631740023 L 1.8314696123025453,0.4444297669803978 L 1.7730104533627369,0.3656067158363545 L 1.7071067811865475,0.2928932188134524 L 1.6343932841636455,0.22698954663726312 L 1.5555702330196022,0.16853038769745476 L 1.5,0.13522287182617557 L 1.444429766980398,0.16853038769745465 L 1.3656067158363547,0.2269895466372629 L 1.2928932188134525,0.2928932188134524 L 1.2269895466372631,0.3656067158363545 L 1.1685303876974547,0.4444297669803978 L 1.118078735651645,0.5286032631740022 L 1.0761204674887133,0.6173165676349102 L 1.0430596642677912,0.7097153227455376 L 1.0192147195967696,0.8049096779838714 L 1.0048152733278033,0.9019828596704391 L 1.0,0.9999999999999999 L 1.004815273327803,1.0980171403295607 L 1.0192147195967696,1.1950903220161284 L 1.043059664267791,1.290284677254462 L 1.076120467488713,1.3826834323650896 L 1.118078735651645,1.4713967368259977 L 1.1685303876974547,1.555570233019602 L 1.226989546637263,1.6343932841636453 L 1.2928932188134523,1.7071067811865475 L 1.365606715836354,1.7730104533627367 L 1.4444297669803978,1.8314696123025453 L 1.4999999999999998,1.8647771281738243 L 1.5555702330196017,1.8314696123025453 L 1.6343932841636457,1.7730104533627369 L 1.7071067811865475,1.7071067811865477 L 1.7730104533627364,1.634393284163646 L 1.8314696123025453,1.5555702330196022 L 1.881921264348355,1.471396736825998 L 1.9238795325112865,1.3826834323650905 L 1.9569403357322088,1.2902846772544625 L 1.9807852804032304,1.1950903220161286 L 1.995184726672197,1.0980171403295604 L 2.0,1.0 L 1.995184726672197,0.9019828596704393 z\" /></g></svg>",
      "text/plain": [
       "<shapely.geometry.polygon.Polygon at 0x23910d2b8b0>"
      ]
     },
     "execution_count": 57,
     "metadata": {},
     "output_type": "execute_result"
    }
   ],
   "source": [
    "# operação de interseção\n",
    "circulo_inter = circulo_1.intersection(circulo_2)\n",
    "circulo_inter\n"
   ]
  },
  {
   "cell_type": "markdown",
   "metadata": {},
   "source": [
    "## 2.2. União"
   ]
  },
  {
   "cell_type": "code",
   "execution_count": 58,
   "metadata": {},
   "outputs": [
    {
     "data": {
      "image/svg+xml": "<svg xmlns=\"http://www.w3.org/2000/svg\" xmlns:xlink=\"http://www.w3.org/1999/xlink\" width=\"100.0\" height=\"100.0\" viewBox=\"-0.12 -0.12 3.24 2.24\" preserveAspectRatio=\"xMinYMin meet\"><g transform=\"matrix(1,0,0,-1,0,2.0)\"><path fill-rule=\"evenodd\" fill=\"#66cc99\" stroke=\"#555555\" stroke-width=\"0.06480000000000001\" opacity=\"0.6\" d=\"M 1.471396736825998,0.11807873565164506 L 1.3826834323650898,0.07612046748871326 L 1.2902846772544623,0.043059664267791065 L 1.1950903220161284,0.01921471959676957 L 1.0980171403295609,0.004815273327803182 L 1.0,0.0 L 0.9019828596704393,0.004815273327803071 L 0.8049096779838718,0.01921471959676957 L 0.7097153227455378,0.043059664267791065 L 0.6173165676349103,0.07612046748871326 L 0.5286032631740023,0.11807873565164495 L 0.44442976698039804,0.16853038769745465 L 0.3656067158363546,0.2269895466372629 L 0.29289321881345254,0.2928932188134524 L 0.226989546637263,0.3656067158363545 L 0.16853038769745465,0.4444297669803978 L 0.11807873565164506,0.5286032631740022 L 0.07612046748871326,0.6173165676349102 L 0.043059664267791176,0.7097153227455376 L 0.01921471959676957,0.8049096779838714 L 0.004815273327803182,0.9019828596704391 L 0.0,0.9999999999999999 L 0.004815273327803071,1.0980171403295607 L 0.01921471959676957,1.1950903220161284 L 0.043059664267791065,1.290284677254462 L 0.07612046748871315,1.3826834323650896 L 0.11807873565164495,1.4713967368259977 L 0.16853038769745454,1.555570233019602 L 0.2269895466372629,1.6343932841636453 L 0.2928932188134523,1.7071067811865475 L 0.36560671583635407,1.7730104533627367 L 0.4444297669803978,1.8314696123025453 L 0.5286032631740021,1.881921264348355 L 0.6173165676349097,1.9238795325112865 L 0.7097153227455375,1.9569403357322088 L 0.8049096779838714,1.9807852804032304 L 0.9019828596704396,1.995184726672197 L 0.9999999999999998,2.0 L 1.09801714032956,1.995184726672197 L 1.1950903220161284,1.9807852804032304 L 1.290284677254462,1.956940335732209 L 1.38268343236509,1.9238795325112865 L 1.4713967368259975,1.881921264348355 L 1.4999999999999998,1.8647771281738243 L 1.528603263174002,1.881921264348355 L 1.6173165676349097,1.9238795325112865 L 1.7097153227455375,1.9569403357322088 L 1.8049096779838714,1.9807852804032304 L 1.9019828596704396,1.995184726672197 L 1.9999999999999998,2.0 L 2.09801714032956,1.995184726672197 L 2.1950903220161284,1.9807852804032304 L 2.290284677254462,1.956940335732209 L 2.38268343236509,1.9238795325112865 L 2.4713967368259975,1.881921264348355 L 2.5555702330196017,1.8314696123025453 L 2.6343932841636457,1.7730104533627369 L 2.7071067811865475,1.7071067811865477 L 2.7730104533627364,1.634393284163646 L 2.8314696123025453,1.5555702330196022 L 2.881921264348355,1.471396736825998 L 2.9238795325112865,1.3826834323650905 L 2.9569403357322086,1.2902846772544625 L 2.9807852804032304,1.1950903220161286 L 2.995184726672197,1.0980171403295604 L 3.0,1.0 L 2.995184726672197,0.9019828596704393 L 2.9807852804032304,0.8049096779838718 L 2.9569403357322086,0.7097153227455377 L 2.923879532511287,0.6173165676349102 L 2.881921264348355,0.5286032631740023 L 2.8314696123025453,0.4444297669803978 L 2.773010453362737,0.3656067158363545 L 2.7071067811865475,0.2928932188134524 L 2.6343932841636457,0.22698954663726312 L 2.555570233019602,0.16853038769745476 L 2.471396736825998,0.11807873565164506 L 2.3826834323650896,0.07612046748871326 L 2.2902846772544625,0.043059664267791065 L 2.1950903220161284,0.01921471959676957 L 2.098017140329561,0.004815273327803182 L 2.0,0.0 L 1.9019828596704393,0.004815273327803071 L 1.8049096779838718,0.01921471959676957 L 1.709715322745538,0.043059664267791065 L 1.6173165676349104,0.07612046748871326 L 1.5286032631740023,0.11807873565164495 L 1.5,0.13522287182617557 L 1.471396736825998,0.11807873565164506 z\" /></g></svg>",
      "text/plain": [
       "<shapely.geometry.polygon.Polygon at 0x239108421d0>"
      ]
     },
     "execution_count": 58,
     "metadata": {},
     "output_type": "execute_result"
    }
   ],
   "source": [
    "# operação de união\n",
    "circulo_union = circulo_1.union(circulo_2)\n",
    "circulo_union\n",
    "\n"
   ]
  },
  {
   "cell_type": "markdown",
   "metadata": {},
   "source": [
    "## 2.3. Diferença"
   ]
  },
  {
   "cell_type": "code",
   "execution_count": 59,
   "metadata": {},
   "outputs": [
    {
     "data": {
      "image/svg+xml": "<svg xmlns=\"http://www.w3.org/2000/svg\" xmlns:xlink=\"http://www.w3.org/1999/xlink\" width=\"100.0\" height=\"100.0\" viewBox=\"-0.08 -0.08 1.6600000000000001 2.16\" preserveAspectRatio=\"xMinYMin meet\"><g transform=\"matrix(1,0,0,-1,0,2.0)\"><path fill-rule=\"evenodd\" fill=\"#66cc99\" stroke=\"#555555\" stroke-width=\"0.0432\" opacity=\"0.6\" d=\"M 1.471396736825998,0.11807873565164506 L 1.3826834323650898,0.07612046748871326 L 1.2902846772544623,0.043059664267791065 L 1.1950903220161284,0.01921471959676957 L 1.0980171403295609,0.004815273327803182 L 1.0,0.0 L 0.9019828596704393,0.004815273327803071 L 0.8049096779838718,0.01921471959676957 L 0.7097153227455378,0.043059664267791065 L 0.6173165676349103,0.07612046748871326 L 0.5286032631740023,0.11807873565164495 L 0.44442976698039804,0.16853038769745465 L 0.3656067158363546,0.2269895466372629 L 0.29289321881345254,0.2928932188134524 L 0.226989546637263,0.3656067158363545 L 0.16853038769745465,0.4444297669803978 L 0.11807873565164506,0.5286032631740022 L 0.07612046748871326,0.6173165676349102 L 0.043059664267791176,0.7097153227455376 L 0.01921471959676957,0.8049096779838714 L 0.004815273327803182,0.9019828596704391 L 0.0,0.9999999999999999 L 0.004815273327803071,1.0980171403295607 L 0.01921471959676957,1.1950903220161284 L 0.043059664267791065,1.290284677254462 L 0.07612046748871315,1.3826834323650896 L 0.11807873565164495,1.4713967368259977 L 0.16853038769745454,1.555570233019602 L 0.2269895466372629,1.6343932841636453 L 0.2928932188134523,1.7071067811865475 L 0.36560671583635407,1.7730104533627367 L 0.4444297669803978,1.8314696123025453 L 0.5286032631740021,1.881921264348355 L 0.6173165676349097,1.9238795325112865 L 0.7097153227455375,1.9569403357322088 L 0.8049096779838714,1.9807852804032304 L 0.9019828596704396,1.995184726672197 L 0.9999999999999998,2.0 L 1.09801714032956,1.995184726672197 L 1.1950903220161284,1.9807852804032304 L 1.290284677254462,1.956940335732209 L 1.38268343236509,1.9238795325112865 L 1.4713967368259975,1.881921264348355 L 1.4999999999999998,1.8647771281738243 L 1.4444297669803978,1.8314696123025453 L 1.365606715836354,1.7730104533627367 L 1.2928932188134523,1.7071067811865475 L 1.226989546637263,1.6343932841636453 L 1.1685303876974547,1.555570233019602 L 1.118078735651645,1.4713967368259977 L 1.076120467488713,1.3826834323650896 L 1.043059664267791,1.290284677254462 L 1.0192147195967696,1.1950903220161284 L 1.004815273327803,1.0980171403295607 L 1.0,0.9999999999999999 L 1.0048152733278033,0.9019828596704391 L 1.0192147195967696,0.8049096779838714 L 1.0430596642677912,0.7097153227455376 L 1.0761204674887133,0.6173165676349102 L 1.118078735651645,0.5286032631740022 L 1.1685303876974547,0.4444297669803978 L 1.2269895466372631,0.3656067158363545 L 1.2928932188134525,0.2928932188134524 L 1.3656067158363547,0.2269895466372629 L 1.444429766980398,0.16853038769745465 L 1.5,0.13522287182617557 L 1.471396736825998,0.11807873565164506 z\" /></g></svg>",
      "text/plain": [
       "<shapely.geometry.polygon.Polygon at 0x23925333100>"
      ]
     },
     "execution_count": 59,
     "metadata": {},
     "output_type": "execute_result"
    }
   ],
   "source": [
    "# operação de diferença\n",
    "circulo_difference = circulo_1.difference(circulo_2)\n",
    "circulo_difference\n",
    "\n"
   ]
  },
  {
   "cell_type": "code",
   "execution_count": 60,
   "metadata": {},
   "outputs": [
    {
     "data": {
      "image/svg+xml": "<svg xmlns=\"http://www.w3.org/2000/svg\" xmlns:xlink=\"http://www.w3.org/1999/xlink\" width=\"100.0\" height=\"100.0\" viewBox=\"1.4199999999999997 -0.08 1.6600000000000004 2.16\" preserveAspectRatio=\"xMinYMin meet\"><g transform=\"matrix(1,0,0,-1,0,2.0)\"><path fill-rule=\"evenodd\" fill=\"#66cc99\" stroke=\"#555555\" stroke-width=\"0.0432\" opacity=\"0.6\" d=\"M 2.995184726672197,0.9019828596704393 L 2.9807852804032304,0.8049096779838718 L 2.9569403357322086,0.7097153227455377 L 2.923879532511287,0.6173165676349102 L 2.881921264348355,0.5286032631740023 L 2.8314696123025453,0.4444297669803978 L 2.773010453362737,0.3656067158363545 L 2.7071067811865475,0.2928932188134524 L 2.6343932841636457,0.22698954663726312 L 2.555570233019602,0.16853038769745476 L 2.471396736825998,0.11807873565164506 L 2.3826834323650896,0.07612046748871326 L 2.2902846772544625,0.043059664267791065 L 2.1950903220161284,0.01921471959676957 L 2.098017140329561,0.004815273327803182 L 2.0,0.0 L 1.9019828596704393,0.004815273327803071 L 1.8049096779838718,0.01921471959676957 L 1.709715322745538,0.043059664267791065 L 1.6173165676349104,0.07612046748871326 L 1.5286032631740023,0.11807873565164495 L 1.5,0.13522287182617557 L 1.5555702330196022,0.16853038769745476 L 1.6343932841636455,0.22698954663726312 L 1.7071067811865475,0.2928932188134524 L 1.7730104533627369,0.3656067158363545 L 1.8314696123025453,0.4444297669803978 L 1.881921264348355,0.5286032631740023 L 1.9238795325112867,0.6173165676349102 L 1.9569403357322088,0.7097153227455377 L 1.9807852804032304,0.8049096779838718 L 1.995184726672197,0.9019828596704393 L 2.0,1.0 L 1.995184726672197,1.0980171403295604 L 1.9807852804032304,1.1950903220161286 L 1.9569403357322088,1.2902846772544625 L 1.9238795325112865,1.3826834323650905 L 1.881921264348355,1.471396736825998 L 1.8314696123025453,1.5555702330196022 L 1.7730104533627364,1.634393284163646 L 1.7071067811865475,1.7071067811865477 L 1.6343932841636457,1.7730104533627369 L 1.5555702330196017,1.8314696123025453 L 1.4999999999999998,1.8647771281738243 L 1.528603263174002,1.881921264348355 L 1.6173165676349097,1.9238795325112865 L 1.7097153227455375,1.9569403357322088 L 1.8049096779838714,1.9807852804032304 L 1.9019828596704396,1.995184726672197 L 1.9999999999999998,2.0 L 2.09801714032956,1.995184726672197 L 2.1950903220161284,1.9807852804032304 L 2.290284677254462,1.956940335732209 L 2.38268343236509,1.9238795325112865 L 2.4713967368259975,1.881921264348355 L 2.5555702330196017,1.8314696123025453 L 2.6343932841636457,1.7730104533627369 L 2.7071067811865475,1.7071067811865477 L 2.7730104533627364,1.634393284163646 L 2.8314696123025453,1.5555702330196022 L 2.881921264348355,1.471396736825998 L 2.9238795325112865,1.3826834323650905 L 2.9569403357322086,1.2902846772544625 L 2.9807852804032304,1.1950903220161286 L 2.995184726672197,1.0980171403295604 L 3.0,1.0 L 2.995184726672197,0.9019828596704393 z\" /></g></svg>",
      "text/plain": [
       "<shapely.geometry.polygon.Polygon at 0x23927662920>"
      ]
     },
     "execution_count": 60,
     "metadata": {},
     "output_type": "execute_result"
    }
   ],
   "source": [
    "# operação de diferença\n",
    "circulo_dif2 = circulo_2.difference(circulo_1)\n",
    "circulo_dif2\n",
    "\n"
   ]
  },
  {
   "cell_type": "markdown",
   "metadata": {},
   "source": [
    "## 2.4. Diferença Simétrica"
   ]
  },
  {
   "cell_type": "code",
   "execution_count": 61,
   "metadata": {},
   "outputs": [
    {
     "data": {
      "image/svg+xml": "<svg xmlns=\"http://www.w3.org/2000/svg\" xmlns:xlink=\"http://www.w3.org/1999/xlink\" width=\"100.0\" height=\"100.0\" viewBox=\"-0.12 -0.12 3.24 2.24\" preserveAspectRatio=\"xMinYMin meet\"><g transform=\"matrix(1,0,0,-1,0,2.0)\"><g><path fill-rule=\"evenodd\" fill=\"#66cc99\" stroke=\"#555555\" stroke-width=\"0.06480000000000001\" opacity=\"0.6\" d=\"M 1.5555702330196022,0.16853038769745476 L 1.6343932841636455,0.22698954663726312 L 1.7071067811865475,0.2928932188134524 L 1.7730104533627369,0.3656067158363545 L 1.8314696123025453,0.4444297669803978 L 1.881921264348355,0.5286032631740023 L 1.9238795325112867,0.6173165676349102 L 1.9569403357322088,0.7097153227455377 L 1.9807852804032304,0.8049096779838718 L 1.995184726672197,0.9019828596704393 L 2.0,1.0 L 1.995184726672197,1.0980171403295604 L 1.9807852804032304,1.1950903220161286 L 1.9569403357322088,1.2902846772544625 L 1.9238795325112865,1.3826834323650905 L 1.881921264348355,1.471396736825998 L 1.8314696123025453,1.5555702330196022 L 1.7730104533627364,1.634393284163646 L 1.7071067811865475,1.7071067811865477 L 1.6343932841636457,1.7730104533627369 L 1.5555702330196017,1.8314696123025453 L 1.4999999999999998,1.8647771281738243 L 1.528603263174002,1.881921264348355 L 1.6173165676349097,1.9238795325112865 L 1.7097153227455375,1.9569403357322088 L 1.8049096779838714,1.9807852804032304 L 1.9019828596704396,1.995184726672197 L 1.9999999999999998,2.0 L 2.09801714032956,1.995184726672197 L 2.1950903220161284,1.9807852804032304 L 2.290284677254462,1.956940335732209 L 2.38268343236509,1.9238795325112865 L 2.4713967368259975,1.881921264348355 L 2.5555702330196017,1.8314696123025453 L 2.6343932841636457,1.7730104533627369 L 2.7071067811865475,1.7071067811865477 L 2.7730104533627364,1.634393284163646 L 2.8314696123025453,1.5555702330196022 L 2.881921264348355,1.471396736825998 L 2.9238795325112865,1.3826834323650905 L 2.9569403357322086,1.2902846772544625 L 2.9807852804032304,1.1950903220161286 L 2.995184726672197,1.0980171403295604 L 3.0,1.0 L 2.995184726672197,0.9019828596704393 L 2.9807852804032304,0.8049096779838718 L 2.9569403357322086,0.7097153227455377 L 2.923879532511287,0.6173165676349102 L 2.881921264348355,0.5286032631740023 L 2.8314696123025453,0.4444297669803978 L 2.773010453362737,0.3656067158363545 L 2.7071067811865475,0.2928932188134524 L 2.6343932841636457,0.22698954663726312 L 2.555570233019602,0.16853038769745476 L 2.471396736825998,0.11807873565164506 L 2.3826834323650896,0.07612046748871326 L 2.2902846772544625,0.043059664267791065 L 2.1950903220161284,0.01921471959676957 L 2.098017140329561,0.004815273327803182 L 2.0,0.0 L 1.9019828596704393,0.004815273327803071 L 1.8049096779838718,0.01921471959676957 L 1.709715322745538,0.043059664267791065 L 1.6173165676349104,0.07612046748871326 L 1.5286032631740023,0.11807873565164495 L 1.5,0.13522287182617557 L 1.5555702330196022,0.16853038769745476 z\" /><path fill-rule=\"evenodd\" fill=\"#66cc99\" stroke=\"#555555\" stroke-width=\"0.06480000000000001\" opacity=\"0.6\" d=\"M 1.471396736825998,0.11807873565164506 L 1.3826834323650898,0.07612046748871326 L 1.2902846772544623,0.043059664267791065 L 1.1950903220161284,0.01921471959676957 L 1.0980171403295609,0.004815273327803182 L 1.0,0.0 L 0.9019828596704393,0.004815273327803071 L 0.8049096779838718,0.01921471959676957 L 0.7097153227455378,0.043059664267791065 L 0.6173165676349103,0.07612046748871326 L 0.5286032631740023,0.11807873565164495 L 0.44442976698039804,0.16853038769745465 L 0.3656067158363546,0.2269895466372629 L 0.29289321881345254,0.2928932188134524 L 0.226989546637263,0.3656067158363545 L 0.16853038769745465,0.4444297669803978 L 0.11807873565164506,0.5286032631740022 L 0.07612046748871326,0.6173165676349102 L 0.043059664267791176,0.7097153227455376 L 0.01921471959676957,0.8049096779838714 L 0.004815273327803182,0.9019828596704391 L 0.0,0.9999999999999999 L 0.004815273327803071,1.0980171403295607 L 0.01921471959676957,1.1950903220161284 L 0.043059664267791065,1.290284677254462 L 0.07612046748871315,1.3826834323650896 L 0.11807873565164495,1.4713967368259977 L 0.16853038769745454,1.555570233019602 L 0.2269895466372629,1.6343932841636453 L 0.2928932188134523,1.7071067811865475 L 0.36560671583635407,1.7730104533627367 L 0.4444297669803978,1.8314696123025453 L 0.5286032631740021,1.881921264348355 L 0.6173165676349097,1.9238795325112865 L 0.7097153227455375,1.9569403357322088 L 0.8049096779838714,1.9807852804032304 L 0.9019828596704396,1.995184726672197 L 0.9999999999999998,2.0 L 1.09801714032956,1.995184726672197 L 1.1950903220161284,1.9807852804032304 L 1.290284677254462,1.956940335732209 L 1.38268343236509,1.9238795325112865 L 1.4713967368259975,1.881921264348355 L 1.4999999999999998,1.8647771281738243 L 1.4444297669803978,1.8314696123025453 L 1.365606715836354,1.7730104533627367 L 1.2928932188134523,1.7071067811865475 L 1.226989546637263,1.6343932841636453 L 1.1685303876974547,1.555570233019602 L 1.118078735651645,1.4713967368259977 L 1.076120467488713,1.3826834323650896 L 1.043059664267791,1.290284677254462 L 1.0192147195967696,1.1950903220161284 L 1.004815273327803,1.0980171403295607 L 1.0,0.9999999999999999 L 1.0048152733278033,0.9019828596704391 L 1.0192147195967696,0.8049096779838714 L 1.0430596642677912,0.7097153227455376 L 1.0761204674887133,0.6173165676349102 L 1.118078735651645,0.5286032631740022 L 1.1685303876974547,0.4444297669803978 L 1.2269895466372631,0.3656067158363545 L 1.2928932188134525,0.2928932188134524 L 1.3656067158363547,0.2269895466372629 L 1.444429766980398,0.16853038769745465 L 1.5,0.13522287182617557 L 1.471396736825998,0.11807873565164506 z\" /></g></g></svg>",
      "text/plain": [
       "<shapely.geometry.multipolygon.MultiPolygon at 0x23910843d90>"
      ]
     },
     "execution_count": 61,
     "metadata": {},
     "output_type": "execute_result"
    }
   ],
   "source": [
    "# operação de diferença simétrica\n",
    "circulo_diffsim = circulo_1.symmetric_difference(circulo_2)\n",
    "circulo_diffsim\n",
    "\n"
   ]
  },
  {
   "cell_type": "markdown",
   "metadata": {},
   "source": [
    "## Resumo\n",
    "\n",
    "Nesta aula nós vimos como criar objetos geométricos com a biblioteca shapely. Mais especificamente \n",
    "voce deve ter aprendido:\n",
    "\n",
    "**1)** Criar objetos de pontos, linhas e polígonos;\n",
    "\n",
    "**2)** Usar funções básicas dos objetos geométricos;\n",
    "\n",
    "**3)** Realizar operações entre geometrias."
   ]
  }
 ],
 "metadata": {
  "kernelspec": {
   "display_name": "Python 3.10.4 ('.venv': venv)",
   "language": "python",
   "name": "python3"
  },
  "language_info": {
   "codemirror_mode": {
    "name": "ipython",
    "version": 3
   },
   "file_extension": ".py",
   "mimetype": "text/x-python",
   "name": "python",
   "nbconvert_exporter": "python",
   "pygments_lexer": "ipython3",
   "version": "3.10.4"
  },
  "vscode": {
   "interpreter": {
    "hash": "b6f6719abe82c28ee756115d71cab7816703c6e563d39cf5a1777c395cdfbd8c"
   }
  }
 },
 "nbformat": 4,
 "nbformat_minor": 4
}
